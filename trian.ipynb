{
 "cells": [
  {
   "cell_type": "code",
   "execution_count": 1,
   "metadata": {},
   "outputs": [],
   "source": [
    "\n",
    "from sklearn.model_selection import train_test_split\n",
    "import numpy as np\n",
    "from sklearn import datasets\n",
    "from LinearRegression import LinearRegression"
   ]
  },
  {
   "cell_type": "code",
   "execution_count": 2,
   "metadata": {},
   "outputs": [
    {
     "data": {
      "text/plain": [
       "(300,)"
      ]
     },
     "execution_count": 2,
     "metadata": {},
     "output_type": "execute_result"
    }
   ],
   "source": [
    "# Data selection for testing for linear model\n",
    "X, y = datasets.make_regression(n_samples=300)\n",
    "X_train, X_test, y_train, y_test = train_test_split(X, y, random_state=32)\n",
    "y.shape"
   ]
  },
  {
   "cell_type": "code",
   "execution_count": 3,
   "metadata": {},
   "outputs": [],
   "source": [
    "# calculate Mean squared error\n",
    "def r2_score(y_test, y_pred):\n",
    "    return (1/len(y_test))*np.sum(y_pred - y_test)**2"
   ]
  },
  {
   "cell_type": "code",
   "execution_count": 4,
   "metadata": {},
   "outputs": [
    {
     "name": "stdout",
     "output_type": "stream",
     "text": [
      "The accuracy score: 7.699074641161079e-17\n"
     ]
    }
   ],
   "source": [
    "# Fitting and testing on data\n",
    "classifier = LinearRegression()\n",
    "classifier.fit(X, y)\n",
    "y_pred = classifier.predict(X_test)\n",
    "acc = r2_score(y_test, y_pred)\n",
    "\n",
    "print(f'The accuracy score: {acc}')"
   ]
  },
  {
   "cell_type": "code",
   "execution_count": 2,
   "metadata": {},
   "outputs": [
    {
     "data": {
      "text/plain": [
       "(569,)"
      ]
     },
     "execution_count": 2,
     "metadata": {},
     "output_type": "execute_result"
    }
   ],
   "source": [
    "from logistic_regression import LogisticRegression\n",
    "data= datasets.load_breast_cancer()\n",
    "X,y= data['data'] , data['target']\n",
    "X_train, X_test, y_train, y_test = train_test_split(X, y, random_state=32)\n",
    "y.shape"
   ]
  },
  {
   "cell_type": "code",
   "execution_count": 4,
   "metadata": {},
   "outputs": [
    {
     "name": "stderr",
     "output_type": "stream",
     "text": [
      "e:\\Rajib\\Python\\Machine learning\\ML_algorithms_implemented\\logistic_regression.py:5: RuntimeWarning: overflow encountered in exp\n",
      "  return (1/(1+np.exp(-x)))\n"
     ]
    },
    {
     "name": "stdout",
     "output_type": "stream",
     "text": [
      "The accuracy score: 88.81118881118881\n"
     ]
    }
   ],
   "source": [
    "def accuracy(y_test, y_pred):\n",
    "  return (np.sum(y_test == y_pred)*100)/len(y_test)\n",
    "# Fitting and testing on data\n",
    "clf =LogisticRegression(lr=0.1)\n",
    "clf.fit(X, y)\n",
    "y_pred = clf.predict(X_test)\n",
    "acc = accuracy(y_test, y_pred)\n",
    "\n",
    "print(f'The accuracy score: {acc}')"
   ]
  }
 ],
 "metadata": {
  "kernelspec": {
   "display_name": "Python 3",
   "language": "python",
   "name": "python3"
  },
  "language_info": {
   "codemirror_mode": {
    "name": "ipython",
    "version": 3
   },
   "file_extension": ".py",
   "mimetype": "text/x-python",
   "name": "python",
   "nbconvert_exporter": "python",
   "pygments_lexer": "ipython3",
   "version": "3.10.11"
  }
 },
 "nbformat": 4,
 "nbformat_minor": 2
}
