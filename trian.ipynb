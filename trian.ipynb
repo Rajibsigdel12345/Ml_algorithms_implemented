{
 "cells": [
  {
   "cell_type": "code",
   "execution_count": 1,
   "metadata": {},
   "outputs": [],
   "source": [
    "\n",
    "from sklearn.model_selection import train_test_split\n",
    "import numpy as np\n",
    "from sklearn import datasets\n",
    "from module.LinearRegression import LinearRegression"
   ]
  },
  {
   "cell_type": "code",
   "execution_count": 2,
   "metadata": {},
   "outputs": [
    {
     "data": {
      "text/plain": [
       "(300,)"
      ]
     },
     "execution_count": 2,
     "metadata": {},
     "output_type": "execute_result"
    }
   ],
   "source": [
    "# Data selection for testing for linear model\n",
    "X, y = datasets.make_regression(n_samples=300)\n",
    "X_train, X_test, y_train, y_test = train_test_split(X, y, random_state=32)\n",
    "y.shape"
   ]
  },
  {
   "cell_type": "code",
   "execution_count": 3,
   "metadata": {},
   "outputs": [],
   "source": [
    "# calculate Mean squared error\n",
    "def r2_score(y_test, y_pred):\n",
    "    return (1/len(y_test))*np.sum(y_pred - y_test)**2"
   ]
  },
  {
   "cell_type": "code",
   "execution_count": 4,
   "metadata": {},
   "outputs": [
    {
     "name": "stdout",
     "output_type": "stream",
     "text": [
      "The accuracy score: 4.366665257274915e-15\n"
     ]
    }
   ],
   "source": [
    "# Fitting and testing on data\n",
    "classifier = LinearRegression()\n",
    "classifier.fit(X, y)\n",
    "y_pred = classifier.predict(X_test)\n",
    "acc = r2_score(y_test, y_pred)\n",
    "\n",
    "print(f'The accuracy score: {acc}')"
   ]
  },
  {
   "cell_type": "code",
   "execution_count": 5,
   "metadata": {},
   "outputs": [
    {
     "data": {
      "text/plain": [
       "(569,)"
      ]
     },
     "execution_count": 5,
     "metadata": {},
     "output_type": "execute_result"
    }
   ],
   "source": [
    "from module.logistic_regression import LogisticRegression\n",
    "data= datasets.load_breast_cancer()\n",
    "X,y= data['data'] , data['target']\n",
    "X_train, X_test, y_train, y_test = train_test_split(X, y, random_state=22)\n",
    "y.shape"
   ]
  },
  {
   "cell_type": "code",
   "execution_count": 2,
   "metadata": {},
   "outputs": [
    {
     "ename": "NameError",
     "evalue": "name 'LogisticRegression' is not defined",
     "output_type": "error",
     "traceback": [
      "\u001b[1;31m---------------------------------------------------------------------------\u001b[0m",
      "\u001b[1;31mNameError\u001b[0m                                 Traceback (most recent call last)",
      "Cell \u001b[1;32mIn[2], line 4\u001b[0m\n\u001b[0;32m      2\u001b[0m   \u001b[38;5;28;01mreturn\u001b[39;00m (np\u001b[38;5;241m.\u001b[39msum(y_test \u001b[38;5;241m==\u001b[39m y_pred)\u001b[38;5;241m*\u001b[39m\u001b[38;5;241m100\u001b[39m)\u001b[38;5;241m/\u001b[39m\u001b[38;5;28mlen\u001b[39m(y_test)\n\u001b[0;32m      3\u001b[0m \u001b[38;5;66;03m# Fitting and testing on data\u001b[39;00m\n\u001b[1;32m----> 4\u001b[0m clf \u001b[38;5;241m=\u001b[39m\u001b[43mLogisticRegression\u001b[49m(lr\u001b[38;5;241m=\u001b[39m\u001b[38;5;241m0.001\u001b[39m,n_iter\u001b[38;5;241m=\u001b[39m\u001b[38;5;241m500\u001b[39m)\n\u001b[0;32m      5\u001b[0m clf\u001b[38;5;241m.\u001b[39mfit(X, y)\n\u001b[0;32m      6\u001b[0m y_pred \u001b[38;5;241m=\u001b[39m clf\u001b[38;5;241m.\u001b[39mpredict(X_test)\n",
      "\u001b[1;31mNameError\u001b[0m: name 'LogisticRegression' is not defined"
     ]
    }
   ],
   "source": [
    "def accuracy(y_test, y_pred):\n",
    "  return (np.sum(y_test == y_pred)*100)/len(y_test)\n",
    "# Fitting and testing on data\n",
    "clf =LogisticRegression(lr=0.001,n_iter=500)\n",
    "clf.fit(X, y)\n",
    "y_pred = clf.predict(X_test)\n",
    "acc = accuracy(y_test, y_pred)\n",
    "\n",
    "print(f'The accuracy score: {acc}')"
   ]
  },
  {
   "cell_type": "code",
   "execution_count": 4,
   "metadata": {},
   "outputs": [],
   "source": [
    "from module.gda import GaussianDiscriminativeAnalysis\n",
    "data =  datasets.load_iris()\n",
    "X,y = data['data'], data['target']\n",
    "X_train, X_test, y_train , y_test = train_test_split(X,y , random_state=32)"
   ]
  },
  {
   "cell_type": "code",
   "execution_count": 6,
   "metadata": {},
   "outputs": [
    {
     "name": "stdout",
     "output_type": "stream",
     "text": [
      "[-270.83107798693345]\n",
      "[-270.83107798693345, -235.76600730638026]\n",
      "[-270.83107798693345, -235.76600730638026, -71.71566456765433]\n"
     ]
    },
    {
     "ename": "NameError",
     "evalue": "name 'accuracy' is not defined",
     "output_type": "error",
     "traceback": [
      "\u001b[1;31m---------------------------------------------------------------------------\u001b[0m",
      "\u001b[1;31mNameError\u001b[0m                                 Traceback (most recent call last)",
      "Cell \u001b[1;32mIn[6], line 4\u001b[0m\n\u001b[0;32m      2\u001b[0m classifier\u001b[38;5;241m.\u001b[39mfit(X,y)\n\u001b[0;32m      3\u001b[0m predict\u001b[38;5;241m=\u001b[39m classifier\u001b[38;5;241m.\u001b[39mpredict(X_test)\n\u001b[1;32m----> 4\u001b[0m \u001b[38;5;28mprint\u001b[39m(\u001b[43maccuracy\u001b[49m(y_test , predict))\n",
      "\u001b[1;31mNameError\u001b[0m: name 'accuracy' is not defined"
     ]
    }
   ],
   "source": [
    "classifier = GaussianDiscriminativeAnalysis()\n",
    "classifier.fit(X,y)\n",
    "predict= classifier.predict(X_test)\n",
    "print(accuracy(y_test , predict))"
   ]
  }
 ],
 "metadata": {
  "kernelspec": {
   "display_name": "Python 3",
   "language": "python",
   "name": "python3"
  },
  "language_info": {
   "codemirror_mode": {
    "name": "ipython",
    "version": 3
   },
   "file_extension": ".py",
   "mimetype": "text/x-python",
   "name": "python",
   "nbconvert_exporter": "python",
   "pygments_lexer": "ipython3",
   "version": "3.10.11"
  }
 },
 "nbformat": 4,
 "nbformat_minor": 2
}
